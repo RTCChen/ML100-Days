{
 "cells": [
  {
   "cell_type": "markdown",
   "metadata": {},
   "source": [
    "## 練習時間\n",
    "資料的操作有很多，接下來的馬拉松中我們會介紹常被使用到的操作，參加者不妨先自行想像一下，第一次看到資料，我們一般會想知道什麼訊息？\n",
    "\n",
    "#### Ex: 如何知道資料的 row 數以及 column 數、有什麼欄位、多少欄位、如何截取部分的資料等等\n",
    "\n",
    "有了對資料的好奇之後，我們又怎麼通過程式碼來達成我們的目的呢？\n",
    "\n",
    "#### 可參考該[基礎教材](https://bookdata.readthedocs.io/en/latest/base/01_pandas.html#DataFrame-%E5%85%A5%E9%97%A8)或自行 google"
   ]
  },
  {
   "cell_type": "markdown",
   "metadata": {},
   "source": [
    "## [Home Credit Default Risk](https://www.kaggle.com/c/home-credit-default-risk)  \n",
    "### Can you predict how capable each applicant is of repaying a loan?  "
   ]
  },
  {
   "cell_type": "code",
   "execution_count": 1,
   "metadata": {},
   "outputs": [],
   "source": [
    "import os\n",
    "import numpy as np\n",
    "import pandas as pd\n",
    "\n",
    "import pandas_profiling"
   ]
  },
  {
   "cell_type": "markdown",
   "metadata": {},
   "source": [
    "### 設定 data_path"
   ]
  },
  {
   "cell_type": "code",
   "execution_count": 2,
   "metadata": {},
   "outputs": [],
   "source": [
    "dir_data = './data/'\n",
    "outfile_save = './outfile_save/'"
   ]
  },
  {
   "cell_type": "markdown",
   "metadata": {},
   "source": [
    "## Step 1：匯入HomeCredit_columns_description.csv 檢視資料集欄位"
   ]
  },
  {
   "cell_type": "markdown",
   "metadata": {},
   "source": [
    "> 第一次匯入時可能會出現encoding的問題, Error massage:\"'utf-8' codec can't decode byte 0x85 in position 59: invalid start byte\"  \n",
    "-> 可透過設定 engine ='python'解決  \n",
    ">> pandas.read_csv  \n",
    ">>> engine : {‘c’, ‘python’}, optional  \n",
    ">>> Parser engine to use. The C engine is faster while the python engine is currently more feature-complete."
   ]
  },
  {
   "cell_type": "code",
   "execution_count": 3,
   "metadata": {},
   "outputs": [
    {
     "name": "stdout",
     "output_type": "stream",
     "text": [
      "Path of read in desc: ./data/HomeCredit_columns_description.csv\n"
     ]
    }
   ],
   "source": [
    "desc = os.path.join(dir_data, 'HomeCredit_columns_description.csv')\n",
    "print('Path of read in desc: %s' % (desc))\n",
    "desc = pd.read_csv(desc, engine = 'python', index_col = 0)"
   ]
  },
  {
   "cell_type": "code",
   "execution_count": 4,
   "metadata": {},
   "outputs": [
    {
     "name": "stdout",
     "output_type": "stream",
     "text": [
      "<class 'pandas.core.frame.DataFrame'>\n",
      "Int64Index: 219 entries, 1 to 221\n",
      "Data columns (total 4 columns):\n",
      "Table          219 non-null object\n",
      "Row            219 non-null object\n",
      "Description    219 non-null object\n",
      "Special        86 non-null object\n",
      "dtypes: object(4)\n",
      "memory usage: 8.6+ KB\n"
     ]
    }
   ],
   "source": [
    "desc.info()"
   ]
  },
  {
   "cell_type": "code",
   "execution_count": 5,
   "metadata": {},
   "outputs": [
    {
     "data": {
      "text/html": [
       "<div>\n",
       "<style scoped>\n",
       "    .dataframe tbody tr th:only-of-type {\n",
       "        vertical-align: middle;\n",
       "    }\n",
       "\n",
       "    .dataframe tbody tr th {\n",
       "        vertical-align: top;\n",
       "    }\n",
       "\n",
       "    .dataframe thead th {\n",
       "        text-align: right;\n",
       "    }\n",
       "</style>\n",
       "<table border=\"1\" class=\"dataframe\">\n",
       "  <thead>\n",
       "    <tr style=\"text-align: right;\">\n",
       "      <th></th>\n",
       "      <th>Table</th>\n",
       "      <th>Row</th>\n",
       "      <th>Description</th>\n",
       "      <th>Special</th>\n",
       "    </tr>\n",
       "  </thead>\n",
       "  <tbody>\n",
       "    <tr>\n",
       "      <th>1</th>\n",
       "      <td>application_{train|test}.csv</td>\n",
       "      <td>SK_ID_CURR</td>\n",
       "      <td>ID of loan in our sample</td>\n",
       "      <td>NaN</td>\n",
       "    </tr>\n",
       "    <tr>\n",
       "      <th>2</th>\n",
       "      <td>application_{train|test}.csv</td>\n",
       "      <td>TARGET</td>\n",
       "      <td>Target variable (1 - client with payment diffi...</td>\n",
       "      <td>NaN</td>\n",
       "    </tr>\n",
       "    <tr>\n",
       "      <th>5</th>\n",
       "      <td>application_{train|test}.csv</td>\n",
       "      <td>NAME_CONTRACT_TYPE</td>\n",
       "      <td>Identification if loan is cash or revolving</td>\n",
       "      <td>NaN</td>\n",
       "    </tr>\n",
       "    <tr>\n",
       "      <th>6</th>\n",
       "      <td>application_{train|test}.csv</td>\n",
       "      <td>CODE_GENDER</td>\n",
       "      <td>Gender of the client</td>\n",
       "      <td>NaN</td>\n",
       "    </tr>\n",
       "    <tr>\n",
       "      <th>7</th>\n",
       "      <td>application_{train|test}.csv</td>\n",
       "      <td>FLAG_OWN_CAR</td>\n",
       "      <td>Flag if the client owns a car</td>\n",
       "      <td>NaN</td>\n",
       "    </tr>\n",
       "  </tbody>\n",
       "</table>\n",
       "</div>"
      ],
      "text/plain": [
       "                          Table                 Row  \\\n",
       "1  application_{train|test}.csv          SK_ID_CURR   \n",
       "2  application_{train|test}.csv              TARGET   \n",
       "5  application_{train|test}.csv  NAME_CONTRACT_TYPE   \n",
       "6  application_{train|test}.csv         CODE_GENDER   \n",
       "7  application_{train|test}.csv        FLAG_OWN_CAR   \n",
       "\n",
       "                                         Description Special  \n",
       "1                           ID of loan in our sample     NaN  \n",
       "2  Target variable (1 - client with payment diffi...     NaN  \n",
       "5        Identification if loan is cash or revolving     NaN  \n",
       "6                               Gender of the client     NaN  \n",
       "7                      Flag if the client owns a car     NaN  "
      ]
     },
     "execution_count": 5,
     "metadata": {},
     "output_type": "execute_result"
    }
   ],
   "source": [
    "desc.head()"
   ]
  },
  {
   "cell_type": "code",
   "execution_count": 6,
   "metadata": {},
   "outputs": [
    {
     "data": {
      "text/plain": [
       "application_{train|test}.csv    122\n",
       "previous_application.csv         38\n",
       "credit_card_balance.csv          23\n",
       "bureau.csv                       17\n",
       "installments_payments.csv         8\n",
       "POS_CASH_balance.csv              8\n",
       "bureau_balance.csv                3\n",
       "Name: Table, dtype: int64"
      ]
     },
     "execution_count": 6,
     "metadata": {},
     "output_type": "execute_result"
    }
   ],
   "source": [
    "# Dataset lists and numbers of columns in the dataset\n",
    "desc['Table'].value_counts()"
   ]
  },
  {
   "cell_type": "markdown",
   "metadata": {},
   "source": [
    "## Step2：透過[Kaggle - Home Credit Default Risk - Data說明](https://www.kaggle.com/c/home-credit-default-risk/data) 檢視各資料表間關連性  \n",
    "> 真的要看～因為上面已經畫出各表之間的關聯圖囉～"
   ]
  },
  {
   "cell_type": "markdown",
   "metadata": {},
   "source": [
    "## Step3：Import Datasets "
   ]
  },
  {
   "cell_type": "markdown",
   "metadata": {},
   "source": [
    "### Datasets' path setting"
   ]
  },
  {
   "cell_type": "code",
   "execution_count": 7,
   "metadata": {},
   "outputs": [],
   "source": [
    "appl_train = os.path.join(dir_data, 'application_train.csv')\n",
    "appl_test = os.path.join(dir_data, 'application_test.csv')\n",
    "\n",
    "bureau = os.path.join(dir_data, 'bureau.csv')\n",
    "bureau_balance = os.path.join(dir_data, 'bureau_balance.csv')\n",
    "\n",
    "previous_application = os.path.join(dir_data, 'previous_application.csv')\n",
    "POS_CASH_balance = os.path.join(dir_data, 'POS_CASH_balance.csv')\n",
    "installments_payments = os.path.join(dir_data, 'installments_payments.csv')\n",
    "credit_card_balance = os.path.join(dir_data, 'credit_card_balance.csv')"
   ]
  },
  {
   "cell_type": "markdown",
   "metadata": {},
   "source": [
    "### 讀入dataset: \n",
    "> 確認讀入欄位的正確性  \n",
    "> 是否有index、欄位名稱、Missing...等須設定  \n",
    "> 是否有日期欄位要parsing"
   ]
  },
  {
   "cell_type": "code",
   "execution_count": 8,
   "metadata": {},
   "outputs": [],
   "source": [
    "appl_train = pd.read_csv(appl_train)\n",
    "appl_test = pd.read_csv(appl_test)\n",
    "\n",
    "bureau = pd.read_csv(bureau)\n",
    "bureau_balance = pd.read_csv(bureau_balance)\n",
    "\n",
    "previous_application = pd.read_csv(previous_application)\n",
    "POS_CASH_balance = pd.read_csv(POS_CASH_balance)\n",
    "installments_payments = pd.read_csv(installments_payments)\n",
    "credit_card_balance = pd.read_csv(credit_card_balance)"
   ]
  },
  {
   "cell_type": "markdown",
   "metadata": {},
   "source": [
    "### 快速檢視各dataset欄位統計\n",
    "> 推薦使用 [pandas_profiling](https://github.com/pandas-profiling/pandas-profiling)  \n",
    "> 檔案大時通常執行久一點, 如application_train.csv執行約3~4分鐘(視每人電腦配備)  \n",
    "> 所以大多只在一開始快速了解資料概況時執行一次就會註解起來, 避免rerun時重新執行.(除非資料集有更新才會重新執行)\n"
   ]
  },
  {
   "cell_type": "code",
   "execution_count": 9,
   "metadata": {},
   "outputs": [],
   "source": [
    "appl_train_p = pandas_profiling.ProfileReport(appl_train, check_correlation = False)\n",
    "appl_train_p.to_file(os.path.join(outfile_save, 'appl_train.html'))\n",
    "\n",
    "appl_test_p = pandas_profiling.ProfileReport(appl_test, check_correlation = False)\n",
    "appl_test_p.to_file(os.path.join(outfile_save, 'appl_test.html'))\n",
    "\n",
    "bureau_p = pandas_profiling.ProfileReport(bureau, check_correlation = False)\n",
    "bureau_p.to_file(os.path.join(outfile_save, 'bureau.html'))\n",
    "\n",
    "bureau_balance_p = pandas_profiling.ProfileReport(bureau_balance, check_correlation = False)\n",
    "bureau_balance_p.to_file(os.path.join(outfile_save, 'bureau_balance.html'))\n",
    "\n",
    "previous_application_p = pandas_profiling.ProfileReport(previous_application, check_correlation = False)\n",
    "previous_application_p.to_file(os.path.join(outfile_save, 'previous_application.html'))\n",
    "\n",
    "POS_CASH_balance_p = pandas_profiling.ProfileReport(POS_CASH_balance, check_correlation = False)\n",
    "POS_CASH_balance_p.to_file(os.path.join(outfile_save, 'POS_CASH_balance.html'))\n",
    "\n",
    "installments_payments_p = pandas_profiling.ProfileReport(installments_payments, check_correlation = False)\n",
    "installments_payments_p.to_file(os.path.join(outfile_save, 'installments_payments.html'))\n",
    "\n",
    "credit_card_balance_p = pandas_profiling.ProfileReport(credit_card_balance, check_correlation = False)\n",
    "credit_card_balance_p.to_file(os.path.join(outfile_save, 'credit_card_balance.html'))"
   ]
  },
  {
   "cell_type": "markdown",
   "metadata": {},
   "source": [
    "### 透過執行產生的ProfileReport(多個html files), 可快速初步檢視每個檔案內欄位數量、欄位type、樣本數、Missing值狀況\n",
    "> 數值型變數會產生Quantile statistics以及Descriptive statistics, 並產生Correlation視覺化圖.  \n",
    "> 類別型變數則會產生前10大類別數量及佔比\n",
    "\n",
    "> 也可藉此調整匯入pd.read_csv是否有其他參數要設定"
   ]
  },
  {
   "cell_type": "code",
   "execution_count": null,
   "metadata": {},
   "outputs": [],
   "source": []
  }
 ],
 "metadata": {
  "kernelspec": {
   "display_name": "Python 3",
   "language": "python",
   "name": "python3"
  },
  "language_info": {
   "codemirror_mode": {
    "name": "ipython",
    "version": 3
   },
   "file_extension": ".py",
   "mimetype": "text/x-python",
   "name": "python",
   "nbconvert_exporter": "python",
   "pygments_lexer": "ipython3",
   "version": "3.6.4"
  }
 },
 "nbformat": 4,
 "nbformat_minor": 2
}
